{
 "cells": [
  {
   "cell_type": "markdown",
   "metadata": {},
   "source": [
    "Iterate over the given names and countries lists, printing them prepending the number of the loop (starting at 1). Here is the output you need to deliver:\n",
    "\n",
    "1. Julian     Australia\n",
    "2. Bob        Spain\n",
    "3. PyBites    Global\n",
    "4. Dante      Argentina\n",
    "5. Martin     USA\n",
    "6. Rodolfo    Mexico\n",
    "\n",
    "Notice that the 2nd column should have a fixed width of 11 chars, so between Julian and Australia there are 5 spaces, between Bob and Spain, there are 8. This column should also be aligned to the left."
   ]
  },
  {
   "cell_type": "code",
   "execution_count": 2,
   "metadata": {},
   "outputs": [],
   "source": [
    "name=[\"Julian\",\"Bob\",\"PyBites\",\"Dante\",\"Martin\",\"Rodolfo\"]"
   ]
  },
  {
   "cell_type": "code",
   "execution_count": 3,
   "metadata": {},
   "outputs": [],
   "source": [
    "country=[\"Australia\",\"Spain\",\"Global\",\"Argentina\",\"USA\",\"Mexico\"]"
   ]
  },
  {
   "cell_type": "code",
   "execution_count": 17,
   "metadata": {},
   "outputs": [
    {
     "name": "stdout",
     "output_type": "stream",
     "text": [
      "1. Julian-----Australia\n",
      "2. Bob--------Spain\n",
      "3. PyBites----Global\n",
      "4. Dante------Argentina\n",
      "5. Martin-----USA\n",
      "6. Rodolfo----Mexico\n"
     ]
    }
   ],
   "source": [
    "for i,j in enumerate(zip(name,country)):\n",
    "    print(\"{}. {}{}\".format(i+1,j[0].ljust(11,'-'),j[1]))\n",
    "        "
   ]
  },
  {
   "cell_type": "markdown",
   "metadata": {},
   "source": [
    "https://thispointer.com/python-how-to-pad-strings-with-zero-space-or-some-other-character/"
   ]
  },
  {
   "cell_type": "code",
   "execution_count": null,
   "metadata": {},
   "outputs": [],
   "source": []
  }
 ],
 "metadata": {
  "kernelspec": {
   "display_name": "Python 3",
   "language": "python",
   "name": "python3"
  },
  "language_info": {
   "codemirror_mode": {
    "name": "ipython",
    "version": 3
   },
   "file_extension": ".py",
   "mimetype": "text/x-python",
   "name": "python",
   "nbconvert_exporter": "python",
   "pygments_lexer": "ipython3",
   "version": "3.6.9"
  }
 },
 "nbformat": 4,
 "nbformat_minor": 2
}
