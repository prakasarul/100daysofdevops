{
 "cells": [
  {
   "cell_type": "code",
   "execution_count": 1,
   "metadata": {},
   "outputs": [],
   "source": [
    "class Addition: \n",
    "    first = 0\n",
    "    second = 0\n",
    "    answer = 0\n",
    "      \n",
    "    # parameterized constructor \n",
    "    def __init__(self, f, s): \n",
    "        self.first = f \n",
    "        self.second = s \n",
    "      \n",
    "    def display(self): \n",
    "        print(\"First number = \" + str(self.first)) \n",
    "        print(\"Second number = \" + str(self.second)) \n",
    "        print(\"Addition of two numbers = \" + str(self.answer)) \n",
    "  \n",
    "    def calculate(self): \n",
    "        self.answer = self.first + self.second "
   ]
  },
  {
   "cell_type": "code",
   "execution_count": 2,
   "metadata": {},
   "outputs": [
    {
     "name": "stdout",
     "output_type": "stream",
     "text": [
      "First number = 1000\n",
      "Second number = 2000\n",
      "Addition of two numbers = 3000\n"
     ]
    }
   ],
   "source": [
    "obj = Addition(1000, 2000) \n",
    "  \n",
    "# perform Addition \n",
    "obj.calculate() \n",
    "  \n",
    "# display result \n",
    "obj.display() "
   ]
  },
  {
   "cell_type": "markdown",
   "metadata": {},
   "source": [
    "Bite 19. Write a simple property\n",
    "\n",
    "    Write a simple Promo class. Its constructor receives a name str and expires datetime.\n",
    "\n",
    "    Add a property called expired which returns a boolean value indicating whether the promo has expired or not.\n",
    "\n",
    "    Checkout the tests and datetime module for more info. Have fun!"
   ]
  },
  {
   "cell_type": "code",
   "execution_count": null,
   "metadata": {},
   "outputs": [],
   "source": [
    "class Promo: \n",
    "    first = 0\n",
    "    second = 0\n",
    "    answer = 0\n",
    "      \n",
    "    # parameterized constructor \n",
    "    def __init__(self, name, expires): \n",
    "        self.name = f \n",
    "        self.expires = s "
   ]
  },
  {
   "cell_type": "code",
   "execution_count": 3,
   "metadata": {},
   "outputs": [],
   "source": [
    "class Geeks: \n",
    "     def __init__(self): \n",
    "          self._age = 0\n",
    "       \n",
    "     # function to get value of _age \n",
    "     def get_age(self): \n",
    "         print(\"getter method called\") \n",
    "         return self._age \n",
    "       \n",
    "     # function to set value of _age \n",
    "     def set_age(self, a): \n",
    "         print(\"setter method called\") \n",
    "         self._age = a \n",
    "  \n",
    "     # function to delete _age attribute \n",
    "     def del_age(self): \n",
    "         del self._age \n",
    "     \n",
    "     age = property(get_age, set_age, del_age)  "
   ]
  },
  {
   "cell_type": "code",
   "execution_count": 5,
   "metadata": {},
   "outputs": [
    {
     "name": "stdout",
     "output_type": "stream",
     "text": [
      "setter method called\n"
     ]
    }
   ],
   "source": [
    "mark = Geeks() \n",
    "  \n",
    "mark.age = 10\n"
   ]
  },
  {
   "cell_type": "code",
   "execution_count": 6,
   "metadata": {},
   "outputs": [],
   "source": [
    "class Geeks: \n",
    "     def __init__(self): \n",
    "          self._age = 0\n",
    "       \n",
    "     # using property decorator \n",
    "     # a getter function \n",
    "     @property\n",
    "     def age(self): \n",
    "         print(\"getter method called\") \n",
    "         return self._age \n",
    "       \n",
    "     # a setter function \n",
    "     @age.setter \n",
    "     def age(self, a): \n",
    "         if(a < 18): \n",
    "            raise ValueError(\"Sorry you age is below eligibility criteria\") \n",
    "         print(\"setter method called\") \n",
    "         self._age = a "
   ]
  },
  {
   "cell_type": "code",
   "execution_count": 7,
   "metadata": {},
   "outputs": [
    {
     "name": "stdout",
     "output_type": "stream",
     "text": [
      "setter method called\n",
      "getter method called\n",
      "19\n"
     ]
    }
   ],
   "source": [
    "mark = Geeks() \n",
    "  \n",
    "mark.age = 19\n",
    "  \n",
    "print(mark.age)"
   ]
  },
  {
   "cell_type": "code",
   "execution_count": null,
   "metadata": {},
   "outputs": [],
   "source": [
    "class Promo: \n",
    "    first = 0\n",
    "    second = 0\n",
    "    answer = 0\n",
    "      \n",
    "    # parameterized constructor \n",
    "    def __init__(self, name, expires): \n",
    "        self.name = f \n",
    "        self.expires = s \n",
    "    @property\n",
    "    def age(self): \n",
    "        print(\"getter method called\") \n",
    "        return self._age \n",
    "       \n",
    "     # a setter function \n",
    "     @age.setter \n",
    "    def age(self, a): \n",
    "        if(a < 18):\n",
    "            raise ValueError(\"Sorry you age is below eligibility criteria\") \n",
    "        print(\"setter method called\") \n",
    "        self._age = a "
   ]
  },
  {
   "cell_type": "markdown",
   "metadata": {},
   "source": [
    "https://www.geeksforgeeks.org/getter-and-setter-in-python/"
   ]
  },
  {
   "cell_type": "code",
   "execution_count": 8,
   "metadata": {},
   "outputs": [],
   "source": [
    "from datetime import datetime\n"
   ]
  },
  {
   "cell_type": "code",
   "execution_count": null,
   "metadata": {},
   "outputs": [],
   "source": []
  }
 ],
 "metadata": {
  "kernelspec": {
   "display_name": "Python 3",
   "language": "python",
   "name": "python3"
  },
  "language_info": {
   "codemirror_mode": {
    "name": "ipython",
    "version": 3
   },
   "file_extension": ".py",
   "mimetype": "text/x-python",
   "name": "python",
   "nbconvert_exporter": "python",
   "pygments_lexer": "ipython3",
   "version": "3.6.9"
  }
 },
 "nbformat": 4,
 "nbformat_minor": 2
}
