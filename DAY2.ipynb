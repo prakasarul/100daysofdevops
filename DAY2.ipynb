{
 "cells": [
  {
   "cell_type": "markdown",
   "metadata": {},
   "source": [
    "    In this bite you will work with a list of names.\n",
    "    First you will write a function to take out duplicates and title case them.\n",
    "    Then you will sort the list in alphabetical descending order by surname and lastly determine what the shortest first name is. For this exercise you can assume there is always one name and one surname.\n",
    "    With some handy Python builtins you can write this in a pretty concise way. Get it sorted :)"
   ]
  },
  {
   "cell_type": "code",
   "execution_count": 1,
   "metadata": {},
   "outputs": [],
   "source": [
    "NAMES = ['arnold schwarzenegger', 'alec baldwin', 'bob belderbos',\n",
    "         'julian sequeira', 'sandra bullock', 'keanu reeves',\n",
    "         'julbob pybites', 'bob belderbos', 'julian sequeira',\n",
    "         'al pacino', 'brad pitt', 'matt damon', 'brad pitt']"
   ]
  },
  {
   "cell_type": "code",
   "execution_count": 2,
   "metadata": {},
   "outputs": [],
   "source": [
    "NAMES1=[]"
   ]
  },
  {
   "cell_type": "code",
   "execution_count": 3,
   "metadata": {
    "scrolled": true
   },
   "outputs": [
    {
     "data": {
      "text/plain": [
       "['arnold schwarzenegger',\n",
       " 'alec baldwin',\n",
       " 'bob belderbos',\n",
       " 'julian sequeira',\n",
       " 'sandra bullock',\n",
       " 'keanu reeves',\n",
       " 'julbob pybites',\n",
       " 'al pacino',\n",
       " 'brad pitt',\n",
       " 'matt damon']"
      ]
     },
     "execution_count": 3,
     "metadata": {},
     "output_type": "execute_result"
    }
   ],
   "source": [
    "for x,y in enumerate(NAMES):\n",
    "    if x == 0:\n",
    "        NAMES1.append(y)\n",
    "    elif y not in NAMES1:\n",
    "        NAMES1.append(y)\n",
    "NAMES1\n"
   ]
  },
  {
   "cell_type": "code",
   "execution_count": 4,
   "metadata": {},
   "outputs": [
    {
     "data": {
      "text/plain": [
       "10"
      ]
     },
     "execution_count": 4,
     "metadata": {},
     "output_type": "execute_result"
    }
   ],
   "source": [
    "len(NAMES1)"
   ]
  },
  {
   "cell_type": "code",
   "execution_count": 5,
   "metadata": {},
   "outputs": [
    {
     "data": {
      "text/plain": [
       "['Arnold Schwarzenegger',\n",
       " 'Alec Baldwin',\n",
       " 'Bob Belderbos',\n",
       " 'Julian Sequeira',\n",
       " 'Sandra Bullock',\n",
       " 'Keanu Reeves',\n",
       " 'Julbob Pybites',\n",
       " 'Al Pacino',\n",
       " 'Brad Pitt',\n",
       " 'Matt Damon']"
      ]
     },
     "execution_count": 5,
     "metadata": {},
     "output_type": "execute_result"
    }
   ],
   "source": [
    "lst=[]\n",
    "for x in NAMES1:\n",
    "    lst.append(x.title())\n",
    "lst"
   ]
  },
  {
   "cell_type": "code",
   "execution_count": 6,
   "metadata": {},
   "outputs": [
    {
     "name": "stdout",
     "output_type": "stream",
     "text": [
      "Arnold Schwarzenegger\n",
      "Alec Baldwin\n",
      "Bob Belderbos\n",
      "Julian Sequeira\n",
      "Sandra Bullock\n",
      "Keanu Reeves\n",
      "Julbob Pybites\n",
      "Al Pacino\n",
      "Brad Pitt\n",
      "Matt Damon\n"
     ]
    }
   ],
   "source": [
    "d = dict(x.split(\" \") for x in lst)\n",
    "\n",
    "for k, v in d.items():\n",
    "    print(k, v)\n",
    "    "
   ]
  },
  {
   "cell_type": "code",
   "execution_count": 28,
   "metadata": {},
   "outputs": [
    {
     "data": {
      "text/plain": [
       "dict_items([('Arnold', 'Schwarzenegger'), ('Alec', 'Baldwin'), ('Bob', 'Belderbos'), ('Julian', 'Sequeira'), ('Sandra', 'Bullock'), ('Keanu', 'Reeves'), ('Julbob', 'Pybites'), ('Al', 'Pacino'), ('Brad', 'Pitt'), ('Matt', 'Damon')])"
      ]
     },
     "execution_count": 28,
     "metadata": {},
     "output_type": "execute_result"
    }
   ],
   "source": [
    "d.items()"
   ]
  },
  {
   "cell_type": "code",
   "execution_count": 8,
   "metadata": {},
   "outputs": [
    {
     "data": {
      "text/plain": [
       "10"
      ]
     },
     "execution_count": 8,
     "metadata": {},
     "output_type": "execute_result"
    }
   ],
   "source": [
    "len(d.keys())"
   ]
  },
  {
   "cell_type": "code",
   "execution_count": 9,
   "metadata": {},
   "outputs": [
    {
     "data": {
      "text/plain": [
       "dict_items([('Arnold', 'Schwarzenegger'), ('Alec', 'Baldwin'), ('Bob', 'Belderbos'), ('Julian', 'Sequeira'), ('Sandra', 'Bullock'), ('Keanu', 'Reeves'), ('Julbob', 'Pybites'), ('Al', 'Pacino'), ('Brad', 'Pitt'), ('Matt', 'Damon')])"
      ]
     },
     "execution_count": 9,
     "metadata": {},
     "output_type": "execute_result"
    }
   ],
   "source": [
    "d.items()"
   ]
  },
  {
   "cell_type": "code",
   "execution_count": 10,
   "metadata": {},
   "outputs": [
    {
     "name": "stdout",
     "output_type": "stream",
     "text": [
      "Julian   Sequeira\n",
      "Arnold   Schwarzenegger\n",
      "Keanu   Reeves\n",
      "Julbob   Pybites\n",
      "Brad   Pitt\n",
      "Al   Pacino\n",
      "Matt   Damon\n",
      "Sandra   Bullock\n",
      "Bob   Belderbos\n",
      "Alec   Baldwin\n"
     ]
    }
   ],
   "source": [
    "# Create a list of tuples sorted by index 1 i.e. value field     \n",
    "listofTuples = sorted(d.items() , reverse=True, key=lambda x: x[1])\n",
    "# Iterate over the sorted sequence\n",
    "for elem in listofTuples :\n",
    "     print(elem[0] , \" \" , elem[1])"
   ]
  },
  {
   "cell_type": "code",
   "execution_count": 11,
   "metadata": {},
   "outputs": [],
   "source": [
    "#https://thispointer.com/python-how-to-sort-a-dictionary-by-key-or-value/"
   ]
  },
  {
   "cell_type": "code",
   "execution_count": 12,
   "metadata": {},
   "outputs": [
    {
     "data": {
      "text/plain": [
       "[('Julian', 'Sequeira'),\n",
       " ('Arnold', 'Schwarzenegger'),\n",
       " ('Keanu', 'Reeves'),\n",
       " ('Julbob', 'Pybites'),\n",
       " ('Brad', 'Pitt'),\n",
       " ('Al', 'Pacino'),\n",
       " ('Matt', 'Damon'),\n",
       " ('Sandra', 'Bullock'),\n",
       " ('Bob', 'Belderbos'),\n",
       " ('Alec', 'Baldwin')]"
      ]
     },
     "execution_count": 12,
     "metadata": {},
     "output_type": "execute_result"
    }
   ],
   "source": [
    "listofTuples"
   ]
  },
  {
   "cell_type": "code",
   "execution_count": 13,
   "metadata": {},
   "outputs": [],
   "source": [
    "res = [' '.join(tups) for tups in listofTuples] "
   ]
  },
  {
   "cell_type": "code",
   "execution_count": 14,
   "metadata": {},
   "outputs": [
    {
     "data": {
      "text/plain": [
       "['Julian Sequeira',\n",
       " 'Arnold Schwarzenegger',\n",
       " 'Keanu Reeves',\n",
       " 'Julbob Pybites',\n",
       " 'Brad Pitt',\n",
       " 'Al Pacino',\n",
       " 'Matt Damon',\n",
       " 'Sandra Bullock',\n",
       " 'Bob Belderbos',\n",
       " 'Alec Baldwin']"
      ]
     },
     "execution_count": 14,
     "metadata": {},
     "output_type": "execute_result"
    }
   ],
   "source": [
    "res"
   ]
  },
  {
   "cell_type": "code",
   "execution_count": 15,
   "metadata": {},
   "outputs": [
    {
     "data": {
      "text/plain": [
       "[('Sandra', 'Bullock'),\n",
       " ('Matt', 'Damon'),\n",
       " ('Keanu', 'Reeves'),\n",
       " ('Julian', 'Sequeira'),\n",
       " ('Julbob', 'Pybites'),\n",
       " ('Brad', 'Pitt'),\n",
       " ('Bob', 'Belderbos'),\n",
       " ('Arnold', 'Schwarzenegger'),\n",
       " ('Alec', 'Baldwin'),\n",
       " ('Al', 'Pacino')]"
      ]
     },
     "execution_count": 15,
     "metadata": {},
     "output_type": "execute_result"
    }
   ],
   "source": [
    "sorted(d.items() , reverse=True, key=lambda x: x[0])"
   ]
  },
  {
   "cell_type": "code",
   "execution_count": 16,
   "metadata": {},
   "outputs": [],
   "source": [
    "low=[]\n",
    "for x in d.keys():\n",
    "    low.append(len(x))"
   ]
  },
  {
   "cell_type": "code",
   "execution_count": 17,
   "metadata": {},
   "outputs": [
    {
     "data": {
      "text/plain": [
       "10"
      ]
     },
     "execution_count": 17,
     "metadata": {},
     "output_type": "execute_result"
    }
   ],
   "source": [
    "len(d.keys())\n"
   ]
  },
  {
   "cell_type": "code",
   "execution_count": 18,
   "metadata": {},
   "outputs": [
    {
     "data": {
      "text/plain": [
       "{'Arnold': 'Schwarzenegger',\n",
       " 'Alec': 'Baldwin',\n",
       " 'Bob': 'Belderbos',\n",
       " 'Julian': 'Sequeira',\n",
       " 'Sandra': 'Bullock',\n",
       " 'Keanu': 'Reeves',\n",
       " 'Julbob': 'Pybites',\n",
       " 'Al': 'Pacino',\n",
       " 'Brad': 'Pitt',\n",
       " 'Matt': 'Damon'}"
      ]
     },
     "execution_count": 18,
     "metadata": {},
     "output_type": "execute_result"
    }
   ],
   "source": [
    "d"
   ]
  },
  {
   "cell_type": "code",
   "execution_count": 19,
   "metadata": {},
   "outputs": [],
   "source": [
    "newlist = d.items()\n",
    "sortedlist = sorted(newlist, key=lambda s: len(s[0]))"
   ]
  },
  {
   "cell_type": "code",
   "execution_count": 31,
   "metadata": {},
   "outputs": [
    {
     "data": {
      "text/plain": [
       "dict_items"
      ]
     },
     "execution_count": 31,
     "metadata": {},
     "output_type": "execute_result"
    }
   ],
   "source": []
  },
  {
   "cell_type": "code",
   "execution_count": 20,
   "metadata": {},
   "outputs": [
    {
     "data": {
      "text/plain": [
       "[('Al', 'Pacino'),\n",
       " ('Bob', 'Belderbos'),\n",
       " ('Alec', 'Baldwin'),\n",
       " ('Brad', 'Pitt'),\n",
       " ('Matt', 'Damon'),\n",
       " ('Keanu', 'Reeves'),\n",
       " ('Arnold', 'Schwarzenegger'),\n",
       " ('Julian', 'Sequeira'),\n",
       " ('Sandra', 'Bullock'),\n",
       " ('Julbob', 'Pybites')]"
      ]
     },
     "execution_count": 20,
     "metadata": {},
     "output_type": "execute_result"
    }
   ],
   "source": [
    "sortedlist"
   ]
  },
  {
   "cell_type": "code",
   "execution_count": 21,
   "metadata": {},
   "outputs": [],
   "source": [
    "value = [' '.join(tups) for tups in sortedlist] "
   ]
  },
  {
   "cell_type": "code",
   "execution_count": 22,
   "metadata": {},
   "outputs": [
    {
     "data": {
      "text/plain": [
       "'Al Pacino'"
      ]
     },
     "execution_count": 22,
     "metadata": {},
     "output_type": "execute_result"
    }
   ],
   "source": [
    "value[0]"
   ]
  },
  {
   "cell_type": "code",
   "execution_count": 23,
   "metadata": {},
   "outputs": [],
   "source": [
    "def dedup_and_title_case_names(NAMES):\n",
    "    \"\"\"Should return a list of title cased names,\n",
    "       each name appears only once\"\"\"\n",
    "    NAMES1=[]\n",
    "    for x,y in enumerate(NAMES):\n",
    "        if x == 0:\n",
    "            NAMES1.append(y)\n",
    "        elif y not in NAMES1:\n",
    "            NAMES1.append(y)\n",
    "    NAMES1\n",
    "    lst=[]\n",
    "    for x in NAMES1:\n",
    "        lst.append(x.title())\n",
    "    return lst\n",
    "\n",
    "\n",
    "def sort_by_surname_desc():\n",
    "    \"\"\"Returns names list sorted desc by surname\"\"\"\n",
    "    names = dedup_and_title_case_names(NAMES)\n",
    "    d = dict(x.split(\" \") for x in names)\n",
    "    listofTuples = sorted(d.items() , reverse=True, key=lambda x: x[1])\n",
    "    res = [' '.join(tups) for tups in listofTuples] \n",
    "    return res\n",
    "    \n",
    "\n",
    "\n",
    "def shortest_first_name():\n",
    "    \"\"\"Returns the shortest first name (str).\n",
    "       You can assume there is only one shortest name.\n",
    "    \"\"\"\n",
    "    names = dedup_and_title_case_names(NAMES)\n",
    "    d = dict(x.split(\" \") for x in names)\n",
    "    newlist = d.items()\n",
    "    sortedlist = sorted(newlist, key=lambda s: len(s[0]))\n",
    "    value = [' '.join(tups) for tups in sortedlist] \n",
    "    return value[0]"
   ]
  },
  {
   "cell_type": "code",
   "execution_count": 24,
   "metadata": {},
   "outputs": [],
   "source": [
    "NAMES = ['arnold schwarzenegger', 'alec baldwin', 'bob belderbos',\n",
    "         'julian sequeira', 'sandra bullock', 'keanu reeves',\n",
    "         'julbob pybites', 'bob belderbos', 'julian sequeira',\n",
    "         'al pacino', 'brad pitt', 'matt damon', 'brad pitt']"
   ]
  },
  {
   "cell_type": "code",
   "execution_count": 25,
   "metadata": {},
   "outputs": [
    {
     "data": {
      "text/plain": [
       "'Al Pacino'"
      ]
     },
     "execution_count": 25,
     "metadata": {},
     "output_type": "execute_result"
    }
   ],
   "source": [
    "shortest_first_name()"
   ]
  },
  {
   "cell_type": "code",
   "execution_count": 26,
   "metadata": {},
   "outputs": [
    {
     "data": {
      "text/plain": [
       "['Julian Sequeira',\n",
       " 'Arnold Schwarzenegger',\n",
       " 'Keanu Reeves',\n",
       " 'Julbob Pybites',\n",
       " 'Brad Pitt',\n",
       " 'Al Pacino',\n",
       " 'Matt Damon',\n",
       " 'Sandra Bullock',\n",
       " 'Bob Belderbos',\n",
       " 'Alec Baldwin']"
      ]
     },
     "execution_count": 26,
     "metadata": {},
     "output_type": "execute_result"
    }
   ],
   "source": [
    "sort_by_surname_desc()"
   ]
  },
  {
   "cell_type": "code",
   "execution_count": 27,
   "metadata": {},
   "outputs": [
    {
     "ename": "TypeError",
     "evalue": "dedup_and_title_case_names() missing 1 required positional argument: 'NAMES'",
     "output_type": "error",
     "traceback": [
      "\u001b[0;31m---------------------------------------------------------------------------\u001b[0m",
      "\u001b[0;31mTypeError\u001b[0m                                 Traceback (most recent call last)",
      "\u001b[0;32m<ipython-input-27-149b80c85c65>\u001b[0m in \u001b[0;36m<module>\u001b[0;34m\u001b[0m\n\u001b[0;32m----> 1\u001b[0;31m \u001b[0mdedup_and_title_case_names\u001b[0m\u001b[0;34m(\u001b[0m\u001b[0;34m)\u001b[0m\u001b[0;34m\u001b[0m\u001b[0;34m\u001b[0m\u001b[0m\n\u001b[0m",
      "\u001b[0;31mTypeError\u001b[0m: dedup_and_title_case_names() missing 1 required positional argument: 'NAMES'"
     ]
    }
   ],
   "source": [
    "dedup_and_title_case_names()"
   ]
  },
  {
   "cell_type": "code",
   "execution_count": null,
   "metadata": {},
   "outputs": [],
   "source": [
    "dedup_and_title_case_names(NAMES)"
   ]
  },
  {
   "cell_type": "code",
   "execution_count": null,
   "metadata": {},
   "outputs": [],
   "source": [
    "d.items()"
   ]
  },
  {
   "cell_type": "code",
   "execution_count": null,
   "metadata": {},
   "outputs": [],
   "source": []
  }
 ],
 "metadata": {
  "kernelspec": {
   "display_name": "Python 3",
   "language": "python",
   "name": "python3"
  },
  "language_info": {
   "codemirror_mode": {
    "name": "ipython",
    "version": 3
   },
   "file_extension": ".py",
   "mimetype": "text/x-python",
   "name": "python",
   "nbconvert_exporter": "python",
   "pygments_lexer": "ipython3",
   "version": "3.6.9"
  }
 },
 "nbformat": 4,
 "nbformat_minor": 2
}
