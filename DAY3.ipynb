{
 "cells": [
  {
   "cell_type": "markdown",
   "metadata": {},
   "source": [
    "Bite 8. Rotate string characters\n",
    "\n",
    "    Write a function that rotates characters in a string, in both directions:\n",
    "\n",
    "        if n is positive move characters from beginning to end, e.g.: rotate('hello', 2) would return llohe\n",
    "        if n is negative move characters to the start of the string, e.g.: rotate('hello', -2) would return lohel"
   ]
  },
  {
   "cell_type": "code",
   "execution_count": 1,
   "metadata": {},
   "outputs": [],
   "source": [
    "name=\"Michael\""
   ]
  },
  {
   "cell_type": "code",
   "execution_count": 2,
   "metadata": {},
   "outputs": [],
   "source": [
    "temp=list(name)"
   ]
  },
  {
   "cell_type": "code",
   "execution_count": 3,
   "metadata": {},
   "outputs": [
    {
     "data": {
      "text/plain": [
       "['M', 'i', 'c', 'h', 'a', 'e', 'l']"
      ]
     },
     "execution_count": 3,
     "metadata": {},
     "output_type": "execute_result"
    }
   ],
   "source": [
    "temp"
   ]
  },
  {
   "cell_type": "code",
   "execution_count": 4,
   "metadata": {},
   "outputs": [],
   "source": [
    "n=4\n",
    "m=0\n",
    "while m<n:\n",
    "    i=0\n",
    "    temp.append(temp.pop(i))\n",
    "    m+=1\n",
    "listToStr = ''.join([str(elem) for elem in temp]) "
   ]
  },
  {
   "cell_type": "code",
   "execution_count": 5,
   "metadata": {},
   "outputs": [
    {
     "data": {
      "text/plain": [
       "['a', 'e', 'l', 'M', 'i', 'c', 'h']"
      ]
     },
     "execution_count": 5,
     "metadata": {},
     "output_type": "execute_result"
    }
   ],
   "source": [
    "temp"
   ]
  },
  {
   "cell_type": "code",
   "execution_count": 20,
   "metadata": {},
   "outputs": [],
   "source": [
    "name=\"Michael\""
   ]
  },
  {
   "cell_type": "code",
   "execution_count": 21,
   "metadata": {},
   "outputs": [],
   "source": [
    "temp=list(name)"
   ]
  },
  {
   "cell_type": "code",
   "execution_count": 22,
   "metadata": {},
   "outputs": [
    {
     "data": {
      "text/plain": [
       "['M', 'i', 'c', 'h', 'a', 'e', 'l']"
      ]
     },
     "execution_count": 22,
     "metadata": {},
     "output_type": "execute_result"
    }
   ],
   "source": [
    "temp"
   ]
  },
  {
   "cell_type": "code",
   "execution_count": 23,
   "metadata": {},
   "outputs": [],
   "source": [
    "n1=4\n",
    "m1=0\n",
    "while m1<n1:\n",
    "    i=-1\n",
    "    temp.insert(0,temp.pop(i))\n",
    "    m1+=1\n",
    "listToStr1 = ''.join([str(elem) for elem in temp]) "
   ]
  },
  {
   "cell_type": "code",
   "execution_count": 24,
   "metadata": {},
   "outputs": [
    {
     "data": {
      "text/plain": [
       "'haelMic'"
      ]
     },
     "execution_count": 24,
     "metadata": {},
     "output_type": "execute_result"
    }
   ],
   "source": [
    "listToStr1"
   ]
  },
  {
   "cell_type": "code",
   "execution_count": 29,
   "metadata": {},
   "outputs": [],
   "source": [
    "def rotatestr(stringsvar :'str value' , intergervar:'intervalue'):\n",
    "    temp=list(stringsvar)\n",
    "    if intergervar > 0:\n",
    "        m=0\n",
    "        while m<intergervar:\n",
    "            i=0\n",
    "            temp.append(temp.pop(i))\n",
    "            m+=1\n",
    "        listToStr = ''.join([str(elem) for elem in temp])\n",
    "        return listToStr\n",
    "        \n",
    "    elif intergervar < 0:\n",
    "        m1=0\n",
    "        while m1<abs(intergervar):\n",
    "            i=-1\n",
    "            temp.insert(0,temp.pop(i))\n",
    "            m1+=1\n",
    "        listToStr1 = ''.join([str(elem) for elem in temp])\n",
    "        return listToStr1\n",
    "        "
   ]
  },
  {
   "cell_type": "code",
   "execution_count": 31,
   "metadata": {},
   "outputs": [
    {
     "data": {
      "text/plain": [
       "'lohel'"
      ]
     },
     "execution_count": 31,
     "metadata": {},
     "output_type": "execute_result"
    }
   ],
   "source": [
    "rotatestr(\"hello\",-2)"
   ]
  },
  {
   "cell_type": "code",
   "execution_count": null,
   "metadata": {},
   "outputs": [],
   "source": []
  }
 ],
 "metadata": {
  "kernelspec": {
   "display_name": "Python 3",
   "language": "python",
   "name": "python3"
  },
  "language_info": {
   "codemirror_mode": {
    "name": "ipython",
    "version": 3
   },
   "file_extension": ".py",
   "mimetype": "text/x-python",
   "name": "python",
   "nbconvert_exporter": "python",
   "pygments_lexer": "ipython3",
   "version": "3.6.9"
  }
 },
 "nbformat": 4,
 "nbformat_minor": 2
}
