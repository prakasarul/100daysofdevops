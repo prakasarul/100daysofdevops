{
 "cells": [
  {
   "cell_type": "markdown",
   "metadata": {},
   "source": [
    " Bite 21. Query a nested data structure\n",
    "\n",
    "    Given the provided cars dictionary:\n",
    "\n",
    "        Get all Jeeps\n",
    "        Get the first car of every manufacturer.\n",
    "        Get all vehicles containing the string Trail in their names (should work for other grep too)\n",
    "        Sort the models (values) alphabetically\n",
    "\n",
    "    See the docstrings and tests for more details. Have fun!\n",
    "\n",
    "    Update 18th of Sept 2018: as concluded in the forum it is better to pass the cars dict into each function to make its scope local."
   ]
  },
  {
   "cell_type": "code",
   "execution_count": 1,
   "metadata": {},
   "outputs": [],
   "source": [
    "cars = {\n",
    "    'Ford': ['Falcon', 'Focus', 'Festiva', 'Fairlane'],\n",
    "    'Holden': ['Commodore', 'Captiva', 'Barina', 'Trailblazer'],\n",
    "    'Nissan': ['Maxima', 'Pulsar', '350Z', 'Navara'],\n",
    "    'Honda': ['Civic', 'Accord', 'Odyssey', 'Jazz'],\n",
    "    'Jeep': ['Grand Cherokee', 'Cherokee', 'Trailhawk', 'Trackhawk']\n",
    "}"
   ]
  },
  {
   "cell_type": "code",
   "execution_count": 14,
   "metadata": {},
   "outputs": [
    {
     "name": "stdout",
     "output_type": "stream",
     "text": [
      "All Jeeps are ['Grand Cherokee', 'Cherokee', 'Trailhawk', 'Trackhawk']\n"
     ]
    }
   ],
   "source": [
    "for k,v in cars.items():\n",
    "    if k==\"Jeep\" and type(v)==list:\n",
    "        s=[x for x in v]\n",
    "print(\"All Jeeps are {}\".format(s))"
   ]
  },
  {
   "cell_type": "code",
   "execution_count": 19,
   "metadata": {},
   "outputs": [
    {
     "name": "stdout",
     "output_type": "stream",
     "text": [
      "First car of manufacturer Ford is Falcon\n",
      "First car of manufacturer Holden is Commodore\n",
      "First car of manufacturer Nissan is Maxima\n",
      "First car of manufacturer Honda is Civic\n",
      "First car of manufacturer Jeep is Grand Cherokee\n"
     ]
    }
   ],
   "source": [
    "for k,v in cars.items():\n",
    "    if type(v)==list:\n",
    "        print(\"First car of manufacturer {} is {}\".format(k,v[0]))\n",
    "    "
   ]
  },
  {
   "cell_type": "code",
   "execution_count": null,
   "metadata": {},
   "outputs": [],
   "source": []
  },
  {
   "cell_type": "code",
   "execution_count": 35,
   "metadata": {},
   "outputs": [],
   "source": [
    "pattern=\"Trail\"\n",
    "res = [model for v in cars.values() for model in v if pattern in model]"
   ]
  },
  {
   "cell_type": "code",
   "execution_count": 36,
   "metadata": {},
   "outputs": [
    {
     "data": {
      "text/plain": [
       "['Trailblazer', 'Trailhawk']"
      ]
     },
     "execution_count": 36,
     "metadata": {},
     "output_type": "execute_result"
    }
   ],
   "source": [
    "res"
   ]
  },
  {
   "cell_type": "code",
   "execution_count": 34,
   "metadata": {},
   "outputs": [
    {
     "name": "stdout",
     "output_type": "stream",
     "text": [
      "['Falcon', 'Focus', 'Festiva', 'Fairlane']\n",
      "['Commodore', 'Captiva', 'Barina', 'Trailblazer']\n",
      "['Maxima', 'Pulsar', '350Z', 'Navara']\n",
      "['Civic', 'Accord', 'Odyssey', 'Jazz']\n",
      "['Grand Cherokee', 'Cherokee', 'Trailhawk', 'Trackhawk']\n"
     ]
    }
   ],
   "source": [
    "for v in cars.values():\n",
    "    print(v)\n",
    "    if pattern in v:\n",
    "        print(\"ex\")"
   ]
  },
  {
   "cell_type": "code",
   "execution_count": 38,
   "metadata": {},
   "outputs": [
    {
     "data": {
      "text/plain": [
       "{'Ford': ['Fairlane', 'Falcon', 'Festiva', 'Focus'],\n",
       " 'Holden': ['Barina', 'Captiva', 'Commodore', 'Trailblazer'],\n",
       " 'Nissan': ['350Z', 'Maxima', 'Navara', 'Pulsar'],\n",
       " 'Honda': ['Accord', 'Civic', 'Jazz', 'Odyssey'],\n",
       " 'Jeep': ['Cherokee', 'Grand Cherokee', 'Trackhawk', 'Trailhawk']}"
      ]
     },
     "execution_count": 38,
     "metadata": {},
     "output_type": "execute_result"
    }
   ],
   "source": [
    " dict((manufacturer, sorted(models)) for manufacturer, models in cars.items())"
   ]
  },
  {
   "cell_type": "code",
   "execution_count": 40,
   "metadata": {},
   "outputs": [
    {
     "data": {
      "text/plain": [
       "{'Ford': ['Falcon', 'Focus', 'Festiva', 'Fairlane'],\n",
       " 'Holden': ['Commodore', 'Captiva', 'Barina', 'Trailblazer'],\n",
       " 'Nissan': ['Maxima', 'Pulsar', '350Z', 'Navara'],\n",
       " 'Honda': ['Civic', 'Accord', 'Odyssey', 'Jazz'],\n",
       " 'Jeep': ['Grand Cherokee', 'Cherokee', 'Trailhawk', 'Trackhawk']}"
      ]
     },
     "execution_count": 40,
     "metadata": {},
     "output_type": "execute_result"
    }
   ],
   "source": [
    "cars"
   ]
  },
  {
   "cell_type": "code",
   "execution_count": null,
   "metadata": {},
   "outputs": [],
   "source": []
  }
 ],
 "metadata": {
  "kernelspec": {
   "display_name": "Python 3",
   "language": "python",
   "name": "python3"
  },
  "language_info": {
   "codemirror_mode": {
    "name": "ipython",
    "version": 3
   },
   "file_extension": ".py",
   "mimetype": "text/x-python",
   "name": "python",
   "nbconvert_exporter": "python",
   "pygments_lexer": "ipython3",
   "version": "3.6.9"
  }
 },
 "nbformat": 4,
 "nbformat_minor": 2
}
