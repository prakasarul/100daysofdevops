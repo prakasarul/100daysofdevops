{
 "cells": [
  {
   "cell_type": "code",
   "execution_count": 2,
   "metadata": {},
   "outputs": [],
   "source": [
    "def countdown(n):\n",
    "    while n > 0:\n",
    "        yield n\n",
    "        n -= 1"
   ]
  },
  {
   "cell_type": "code",
   "execution_count": 3,
   "metadata": {},
   "outputs": [
    {
     "name": "stdout",
     "output_type": "stream",
     "text": [
      "T-minus 10\n",
      "T-minus 9\n",
      "T-minus 8\n",
      "T-minus 7\n",
      "T-minus 6\n",
      "T-minus 5\n",
      "T-minus 4\n",
      "T-minus 3\n",
      "T-minus 2\n",
      "T-minus 1\n"
     ]
    }
   ],
   "source": [
    "for x in countdown(10):\n",
    "    print('T-minus', x)"
   ]
  },
  {
   "cell_type": "code",
   "execution_count": 1,
   "metadata": {},
   "outputs": [
    {
     "name": "stdout",
     "output_type": "stream",
     "text": [
      "2017-03-29 00:00:00\n",
      "2017-07-07 00:00:00\n",
      "2017-10-15 00:00:00\n",
      "2017-12-19 00:00:00\n",
      "2018-01-23 00:00:00\n",
      "2018-05-03 00:00:00\n",
      "2018-08-11 00:00:00\n",
      "2018-11-19 00:00:00\n",
      "2018-12-19 00:00:00\n",
      "2019-02-27 00:00:00\n",
      "2019-06-07 00:00:00\n",
      "2019-09-15 00:00:00\n",
      "2019-12-19 00:00:00\n",
      "2019-12-24 00:00:00\n",
      "2020-04-02 00:00:00\n",
      "2020-07-11 00:00:00\n",
      "2020-10-19 00:00:00\n",
      "2020-12-18 00:00:00\n",
      "2021-01-27 00:00:00\n",
      "2021-05-07 00:00:00\n",
      "2021-08-15 00:00:00\n",
      "2021-11-23 00:00:00\n",
      "2021-12-18 00:00:00\n",
      "2022-03-03 00:00:00\n",
      "2022-06-11 00:00:00\n",
      "2022-09-19 00:00:00\n",
      "2022-12-18 00:00:00\n",
      "2022-12-28 00:00:00\n",
      "2023-04-07 00:00:00\n",
      "2023-07-16 00:00:00\n"
     ]
    }
   ],
   "source": [
    "from datetime import datetime\n",
    "from datetime import timedelta\n",
    "\n",
    "PYBITES_BORN = datetime(year=2016, month=12, day=19)\n",
    "hundred_days = timedelta(days=100)\n",
    "one_year = timedelta(days=365)\n",
    "\n",
    "def gen_special_pybites_dates():\n",
    "    rundate = datetime(2017, 3, 29, 0, 0)\n",
    "    anniversary = PYBITES_BORN + one_year\n",
    "    #yield rundate\n",
    "    #rundate += hundred_days\n",
    "    while True:\n",
    "        if anniversary > rundate:\n",
    "             yield rundate\n",
    "             rundate += hundred_days\n",
    "        else:\n",
    "             yield anniversary\n",
    "             anniversary += one_year\n",
    "\n",
    "g = gen_special_pybites_dates()\n",
    "for i in range(30):\n",
    "    print(next(g))\n",
    "\n"
   ]
  },
  {
   "cell_type": "code",
   "execution_count": null,
   "metadata": {},
   "outputs": [],
   "source": []
  }
 ],
 "metadata": {
  "kernelspec": {
   "display_name": "Python 3",
   "language": "python",
   "name": "python3"
  },
  "language_info": {
   "codemirror_mode": {
    "name": "ipython",
    "version": 3
   },
   "file_extension": ".py",
   "mimetype": "text/x-python",
   "name": "python",
   "nbconvert_exporter": "python",
   "pygments_lexer": "ipython3",
   "version": "3.6.9"
  }
 },
 "nbformat": 4,
 "nbformat_minor": 2
}
